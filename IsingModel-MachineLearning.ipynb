{
  "nbformat": 4,
  "nbformat_minor": 0,
  "metadata": {
    "colab": {
      "name": "Copy of DLAP2020_ising_detection.ipynb",
      "provenance": [],
      "collapsed_sections": [],
      "toc_visible": true
    },
    "kernelspec": {
      "name": "python3",
      "display_name": "Python 3"
    }
  },
  "cells": [
    {
      "cell_type": "markdown",
      "metadata": {
        "id": "Vfv8wudxyhdg"
      },
      "source": [
        "# Calculation of the critical temperature for 2D Ising models using Convolutional neural network\n",
        "\n",
        "- critical temperature $\\beta = 0.440686$\n",
        "- 平均場近似により解析的に求めた$\\beta$が, DeepLearningで計算したものと一致するか確かめる.\n",
        "- このnotebookは次の論文の一部を実装したもの : Carrasquilla, J., Melko, R. Machine learning phases of matter. Nature Phys 13, 431–434 (2017). https://doi.org/10.1038/nphys4035"
      ]
    },
    {
      "cell_type": "markdown",
      "metadata": {
        "id": "FM6hN7eQ7lkB"
      },
      "source": [
        "# データの前処理"
      ]
    },
    {
      "cell_type": "code",
      "metadata": {
        "id": "4XZNzf610H8L"
      },
      "source": [
        "import matplotlib.pyplot as plt\n",
        "import numpy as np\n",
        "import tensorflow as tf\n",
        "from tensorflow import keras\n",
        "print(tf.__version__) \n",
        "\n",
        "\n",
        "# Dataの前処理\n",
        "################################################################\n",
        "# 【Working in Progress】2-D IsingModelの画像データを準備してください.\n",
        "# (画像データ, ターゲット(正解データ), beta)で1セットです.\n",
        "# ターゲットは高温なら[1,0]を, 低温なら[0,1].\n",
        "# 画像データはnpy, ターゲットはlist, betaはfloat.\n",
        "# 各betaについて同じ枚数の画像を用意してください.\n",
        "# メトロポリス法で生成可能です. 例えば次のライブラリで作れます : https://github.com/christianb93/MachineLearning.git\n",
        "################################################################\n",
        "\n",
        "nconf =  # 各betaの画像枚数\n",
        "betacr = 0.440686 # 平均場近似で求めた相転移点\n",
        "\n",
        "# Prepare your Data!\n",
        "data = []  # 画像データ\n",
        "labels = []  # target\n",
        "betas = []  # betaの値の集まり.\n",
        "nprm=  # betaの数. beta=0,5,10,...,100なら, nprm=21 \n",
        "\n",
        "data = np.array(data)\n",
        "labels = np.array(labels)\n",
        "\n",
        "train_data=data[0::2]  # train_data = [data[0], data[2], ...]\n",
        "train_labels=labels[0::2]\n",
        "train_betas=betas[0::2]\n",
        "\n",
        "test_data=data[1::2]\n",
        "test_labels=labels[1::2]\n",
        "test_betas=betas[1::2]"
      ],
      "execution_count": null,
      "outputs": []
    },
    {
      "cell_type": "markdown",
      "metadata": {
        "id": "bAQVjjE8Wmc1"
      },
      "source": [
        "# Train"
      ]
    },
    {
      "cell_type": "code",
      "metadata": {
        "id": "R5TRF-oAENwe"
      },
      "source": [
        "tf.random.set_seed(52354)\n",
        "model_CNN = keras.Sequential([\n",
        "    keras.layers.Conv2D(filters =  1,\n",
        "                        kernel_size=(4, 4), \n",
        "                        activation='relu', \n",
        "                        input_shape=(32, 32, 1) \n",
        "                        ),\n",
        "    keras.layers.Flatten(),\n",
        "    keras.layers.Dense(100, activation='relu'),\n",
        "    keras.layers.Dense(2, activation='softmax')\n",
        "])\n",
        "\n",
        "model_CNN.compile(optimizer='adam', \n",
        "              loss='categorical_crossentropy',\n",
        "              metrics=['accuracy'])\n",
        "\n",
        "train_data_cnn=np.array(train_data)\n",
        "train_data_cnn = train_data_cnn.reshape(train_data.shape[0], train_data.shape[1], train_data.shape[2], 1)"
      ],
      "execution_count": null,
      "outputs": []
    },
    {
      "cell_type": "code",
      "metadata": {
        "id": "nxQarQ8CXCnx",
        "colab": {
          "base_uri": "https://localhost:8080/"
        },
        "outputId": "d48c2580-92e3-4bda-ab56-ee00e6a8fcc7"
      },
      "source": [
        "model_CNN.fit(train_data_cnn, train_labels, epochs=10)"
      ],
      "execution_count": null,
      "outputs": [
        {
          "output_type": "stream",
          "text": [
            "Epoch 1/10\n",
            "30/30 [==============================] - 0s 9ms/step - loss: 0.4084 - accuracy: 0.8053\n",
            "Epoch 2/10\n",
            "30/30 [==============================] - 0s 9ms/step - loss: 0.1618 - accuracy: 0.9789\n",
            "Epoch 3/10\n",
            "30/30 [==============================] - 0s 9ms/step - loss: 0.0630 - accuracy: 1.0000\n",
            "Epoch 4/10\n",
            "30/30 [==============================] - 0s 8ms/step - loss: 0.0442 - accuracy: 0.9989\n",
            "Epoch 5/10\n",
            "30/30 [==============================] - 0s 9ms/step - loss: 0.0208 - accuracy: 1.0000\n",
            "Epoch 6/10\n",
            "30/30 [==============================] - 0s 9ms/step - loss: 0.0134 - accuracy: 1.0000\n",
            "Epoch 7/10\n",
            "30/30 [==============================] - 0s 9ms/step - loss: 0.0100 - accuracy: 1.0000\n",
            "Epoch 8/10\n",
            "30/30 [==============================] - 0s 8ms/step - loss: 0.0065 - accuracy: 1.0000\n",
            "Epoch 9/10\n",
            "30/30 [==============================] - 0s 9ms/step - loss: 0.0054 - accuracy: 1.0000\n",
            "Epoch 10/10\n",
            "30/30 [==============================] - 0s 9ms/step - loss: 0.0045 - accuracy: 1.0000\n"
          ],
          "name": "stdout"
        },
        {
          "output_type": "execute_result",
          "data": {
            "text/plain": [
              "<tensorflow.python.keras.callbacks.History at 0x7f876285bef0>"
            ]
          },
          "metadata": {
            "tags": []
          },
          "execution_count": 17
        }
      ]
    },
    {
      "cell_type": "markdown",
      "metadata": {
        "id": "UssLkEPV8NaD"
      },
      "source": [
        "# Test"
      ]
    },
    {
      "cell_type": "code",
      "metadata": {
        "id": "mDMnsJQZXErP",
        "colab": {
          "base_uri": "https://localhost:8080/",
          "height": 606
        },
        "outputId": "adc913cf-85d8-46eb-c6a4-0e865e9767da"
      },
      "source": [
        "xs=[]\n",
        "y1s=[]\n",
        "y2s=[]\n",
        "Ndatamax = 950\n",
        "Nsameclass = 50\n",
        "for ii in range(0,Ndatamax,Nsameclass):\n",
        "  res = model_CNN(test_data[ii:ii+Nsameclass])\n",
        "  x = test_betas[ii]\n",
        "  y1= np.mean(res.numpy().T[0] )\n",
        "  y2=np.mean(res.numpy().T[1] )\n",
        "  xs.append( x )\n",
        "  y1s.append( y1 )\n",
        "  y2s.append( y2 )\n",
        "  print(x,y1,y2)\n",
        "plt.axvline(x=0.440686, ymin=0, ymax=1, ls=\"dashed\",color=\"gray\",label=\"Critical\")\n",
        "plt.plot(xs,y1s,label=\"class:High\",marker=\"o\",color=\"red\")\n",
        "plt.plot(xs,y2s,label=\"class:Low\",marker=\"o\",color=\"blue\")\n",
        "plt.legend()\n",
        "plt.xlabel(r\"$\\beta=1/T$\")\n",
        "plt.ylabel(r\"Prob\")\n",
        "plt.show()"
      ],
      "execution_count": null,
      "outputs": [
        {
          "output_type": "stream",
          "text": [
            "0.9 4.724294e-05 0.9999527\n",
            "0.85 5.3331452e-05 0.9999468\n",
            "0.8 5.820123e-05 0.99994177\n",
            "0.7 8.533801e-05 0.9999145\n",
            "0.65 0.00013153494 0.99986833\n",
            "0.6 0.00026019898 0.99973977\n",
            "0.55 0.00084821106 0.9991518\n",
            "0.5 0.008376382 0.99162364\n",
            "0.47 0.025804238 0.9741957\n",
            "0.42 0.96269906 0.037300967\n",
            "0.4 0.9511653 0.048834678\n",
            "0.35 0.97298384 0.027016189\n",
            "0.3 0.9686726 0.03132741\n",
            "0.25 0.956013 0.043986935\n",
            "0.2 0.9604688 0.039531127\n",
            "0.15 0.9660089 0.033991136\n",
            "0.1 0.94452214 0.055477872\n",
            "0.05 0.95157564 0.04842432\n",
            "0.0 0.95175123 0.048248824\n"
          ],
          "name": "stdout"
        },
        {
          "output_type": "display_data",
          "data": {
            "image/png": "[encoded data removed]",
            "text/plain": [
              "<Figure size 432x288 with 1 Axes>"
            ]
          },
          "metadata": {
            "tags": [],
            "needs_background": "light"
          }
        }
      ]
    },
    {
      "cell_type": "code",
      "metadata": {
        "id": "CPCbqu3aBCkd",
        "colab": {
          "base_uri": "https://localhost:8080/",
          "height": 371
        },
        "outputId": "86df40e4-b28b-4fae-a656-99f273891a46"
      },
      "source": [
        "u1,v1 = xs[9],y1s[9]\n",
        "u2,v2 = xs[8],y1s[8]\n",
        "w1,t1 = xs[9],y2s[9]\n",
        "w2,t2 = xs[8],y2s[8]\n",
        "print(u1,v1)\n",
        "print(u2,v2)\n",
        "#\n",
        "print(w1,t1)\n",
        "print(w2,t2)\n",
        "\n",
        "from numpy.linalg import solve\n",
        "\n",
        "tan1=(v2-v1)/(u2-u1)\n",
        "tan2=(t2-t1)/(w2-w1)\n",
        "MatA = [[1, -tan1],\n",
        "        [1, -tan2]]\n",
        " \n",
        "vecB = [v1-tan1*u1,\n",
        "        t1-tan2*w1]\n",
        "#\n",
        "sol = solve(MatA, vecB)\n",
        "print(\"sol x,y = \", sol)\n",
        "#\n",
        "xx = np.linspace(0,1)\n",
        "yy = tan1*(xx-u1)+v1\n",
        "plt.plot(xx,yy)\n",
        "#\n",
        "yy = tan2*(xx-w1)+t1\n",
        "plt.plot(xx, yy)\n",
        "plt.ylim(0,1)\n",
        "plt.show()\n",
        "#\n",
        "beta_cr = 0.440686\n",
        "er = round(abs(beta_cr - sol[1])/beta_cr  *100,2)\n",
        "print(f\"Relative error = {er} %\")"
      ],
      "execution_count": null,
      "outputs": [
        {
          "output_type": "stream",
          "text": [
            "0.42 0.96269906\n",
            "0.47 0.025804238\n",
            "0.42 0.037300967\n",
            "0.47 0.9741957\n",
            "sol x,y =  [0.5        0.44469322]\n"
          ],
          "name": "stdout"
        },
        {
          "output_type": "display_data",
          "data": {
            "image/png": "[encoded data removed]",
            "text/plain": [
              "<Figure size 432x288 with 1 Axes>"
            ]
          },
          "metadata": {
            "tags": [],
            "needs_background": "light"
          }
        },
        {
          "output_type": "stream",
          "text": [
            "Relative error = 0.91 %\n"
          ],
          "name": "stdout"
        }
      ]
    }
  ]
}